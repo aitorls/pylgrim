{
 "cells": [
  {
   "cell_type": "markdown",
   "metadata": {},
   "source": [
    "# Elementary Shortest Path Problem with Resource Constraints and Time Windows (ESPRRCTW)"
   ]
  },
  {
   "cell_type": "code",
   "execution_count": 14,
   "metadata": {},
   "outputs": [
    {
     "data": {
      "text/plain": [
       "<module 'pylgrim.ESPPRCTW' from '/home/ubuntu/github_repos/pylgrim/pylgrim/ESPPRCTW.py'>"
      ]
     },
     "execution_count": 14,
     "metadata": {},
     "output_type": "execute_result"
    }
   ],
   "source": [
    "# test using ESPPRCTW on the simple test graph.\n",
    "# Note: The results can be different compared to test_ESPP because here resources are taken into account.\n",
    "import networkx as nx\n",
    "import logging\n",
    "import numpy as np\n",
    "\n",
    "\n",
    "import os\n",
    "dir_notebooks = os.getcwd()\n",
    "dir_home, _ = os.path.split(dir_notebooks)\n",
    "\n",
    "#dir_data = os.path.join(dir_home, 'data')\n",
    "dir_code = dir_home\n",
    "#dir_scripts = os.path.join(dir_home, 'scripts')\n",
    "\n",
    "\n",
    "# Import my modules\n",
    "import sys\n",
    "sys.path.append(dir_code) \n",
    "\n",
    "import pylgrim\n",
    "import tests.tools as testtools\n",
    "\n",
    "import importlib\n",
    "importlib.reload(pylgrim.ESPPRCTW)"
   ]
  },
  {
   "cell_type": "code",
   "execution_count": 15,
   "metadata": {},
   "outputs": [],
   "source": [
    "# possible values are: WARNING, INFO, DEBUG, ...\n",
    "# (see https://docs.python.org/3/library/logging.html#logging-levels)\n",
    "logging.basicConfig(level=logging.WARNING)\n",
    "logger = logging.getLogger(__name__)"
   ]
  },
  {
   "cell_type": "markdown",
   "metadata": {},
   "source": [
    "## Toy Example"
   ]
  },
  {
   "cell_type": "code",
   "execution_count": 16,
   "metadata": {},
   "outputs": [],
   "source": [
    "def create_test_graph(add_nodes_to_0=False):\n",
    "    \"\"\"create test based on graph from [1]\n",
    "    (see 'testgraph.png')\n",
    "    With the flag {add_nodes_to_0} the graph can be extended with two nodes to 0\"\"\"\n",
    "\n",
    "    # MUY LAXO POR EL MOMENTO\n",
    "    AUTONOMY = 10 \n",
    "    TIME_WINDOWS = [0,10]\n",
    "\n",
    "    G = nx.DiGraph(n_res=2, max_res=[AUTONOMY,TIME_WINDOWS[1]]) #max_res [AUTONOMY, TIME_WINDOWS] \n",
    "\n",
    "\n",
    "    # Add nodes\n",
    "    G.add_nodes_from([\n",
    "        (0, {\"res_min\": np.array([0,TIME_WINDOWS[0]]),\n",
    "             \"res_max\": np.array([AUTONOMY,TIME_WINDOWS[1]]) }),\n",
    "        (1, {\"res_min\": np.array([0,TIME_WINDOWS[0]]),\n",
    "             \"res_max\": np.array([AUTONOMY,TIME_WINDOWS[1]]) }),\n",
    "        (2, {\"res_min\": np.array([0,TIME_WINDOWS[0]]),\n",
    "             \"res_max\": np.array([AUTONOMY,TIME_WINDOWS[1]]) }),\n",
    "        (3, {\"res_min\": np.array([0,TIME_WINDOWS[0]]),\n",
    "             \"res_max\": np.array([AUTONOMY,TIME_WINDOWS[1]]) }),\n",
    "        (4, {\"res_min\": np.array([0,TIME_WINDOWS[0]]),\n",
    "             \"res_max\": np.array([AUTONOMY,TIME_WINDOWS[1]]) }),\n",
    "        (5, {\"res_min\": np.array([0,TIME_WINDOWS[0]]),\n",
    "             \"res_max\": np.array([AUTONOMY,TIME_WINDOWS[1]]) }),\n",
    "        (6, {\"res_min\": np.array([0,TIME_WINDOWS[0]]),\n",
    "             \"res_max\": np.array([AUTONOMY,TIME_WINDOWS[1]]) }),\n",
    "    ])\n",
    "\n",
    "    \n",
    "    G.add_edge(0, 1, weight=2, res_cost=np.array([1,2]))\n",
    "    G.add_edge(0, 2, weight=-4, res_cost=np.array([1,2]))\n",
    "    G.add_edge(1, 2, weight=-7, res_cost=np.array([1,2]))\n",
    "    G.add_edge(1, 4, weight=5, res_cost=np.array([1,3]))\n",
    "    G.add_edge(2, 3, weight=3, res_cost=np.array([1,2]))\n",
    "    G.add_edge(3, 1, weight=1, res_cost=np.array([1,2]))\n",
    "    G.add_edge(2, 5, weight=-2, res_cost=np.array([1,2]))\n",
    "    G.add_edge(5, 6, weight=2, res_cost=np.array([1,2]))\n",
    "    G.add_edge(5, 4, weight=-2, res_cost=np.array([1,2]))\n",
    "    G.add_edge(4, 2, weight=3, res_cost=np.array([1,2]))\n",
    "    G.add_edge(4, 6, weight=3, res_cost=np.array([1,3]))\n",
    "    if add_nodes_to_0:\n",
    "        # add nodes to 0 for test\n",
    "        G.add_edge(6, 0, weight=-1, res_cost=np.array([1,2]))\n",
    "        G.add_edge(1, 0, weight=-2, res_cost=np.array([1,2]))\n",
    "\n",
    "    return G"
   ]
  },
  {
   "cell_type": "code",
   "execution_count": 17,
   "metadata": {},
   "outputs": [],
   "source": [
    "def create_test_graph(add_nodes_to_0=False):\n",
    "    \"\"\"create test based on graph from [1]\n",
    "    (see 'testgraph.png')\n",
    "    With the flag {add_nodes_to_0} the graph can be extended with two nodes to 0\"\"\"\n",
    "\n",
    "    # MUY LAXO POR EL MOMENTO\n",
    "    AUTONOMY = 10 \n",
    "    TIME_WINDOWS = [0,10]\n",
    "\n",
    "    G = nx.DiGraph(n_res=2, max_res=[AUTONOMY,TIME_WINDOWS[1]]) #max_res [AUTONOMY, TIME_WINDOWS] \n",
    "\n",
    "\n",
    "    # Add nodes\n",
    "    G.add_nodes_from([\n",
    "        (0, {\"res_min\": np.array([0,TIME_WINDOWS[0]]),\n",
    "             \"res_max\": np.array([AUTONOMY,TIME_WINDOWS[1]]) }),\n",
    "        (1, {\"res_min\": np.array([0,TIME_WINDOWS[0]]),\n",
    "             \"res_max\": np.array([AUTONOMY,TIME_WINDOWS[1]]) }),\n",
    "        (2, {\"res_min\": np.array([0,TIME_WINDOWS[0]]),\n",
    "             \"res_max\": np.array([AUTONOMY,3]) }),\n",
    "        (3, {\"res_min\": np.array([0,TIME_WINDOWS[0]]),\n",
    "             \"res_max\": np.array([AUTONOMY,TIME_WINDOWS[1]]) }),\n",
    "        (4, {\"res_min\": np.array([0,TIME_WINDOWS[0]]),\n",
    "             \"res_max\": np.array([AUTONOMY,TIME_WINDOWS[1]]) }),\n",
    "        (5, {\"res_min\": np.array([0,TIME_WINDOWS[0]]),\n",
    "             \"res_max\": np.array([AUTONOMY,TIME_WINDOWS[1]]) }),\n",
    "        (6, {\"res_min\": np.array([0,TIME_WINDOWS[0]]),\n",
    "             \"res_max\": np.array([AUTONOMY,TIME_WINDOWS[1]]) }),\n",
    "    ])\n",
    "\n",
    "    \n",
    "    G.add_edge(0, 1, weight=2, res_cost=np.array([1,2]))\n",
    "    G.add_edge(0, 2, weight=-4, res_cost=np.array([1,2]))\n",
    "    G.add_edge(1, 2, weight=-7, res_cost=np.array([1,2]))\n",
    "    G.add_edge(1, 4, weight=5, res_cost=np.array([1,3]))\n",
    "    G.add_edge(2, 3, weight=3, res_cost=np.array([1,2]))\n",
    "    G.add_edge(3, 1, weight=1, res_cost=np.array([1,2]))\n",
    "    G.add_edge(2, 5, weight=-2, res_cost=np.array([1,2]))\n",
    "    G.add_edge(5, 6, weight=2, res_cost=np.array([1,2]))\n",
    "    G.add_edge(5, 4, weight=-2, res_cost=np.array([1,2]))\n",
    "    G.add_edge(4, 2, weight=3, res_cost=np.array([1,2]))\n",
    "    G.add_edge(4, 6, weight=3, res_cost=np.array([1,3]))\n",
    "    if add_nodes_to_0:\n",
    "        # add nodes to 0 for test\n",
    "        G.add_edge(6, 0, weight=-1, res_cost=np.array([1,2]))\n",
    "        G.add_edge(1, 0, weight=-2, res_cost=np.array([1,2]))\n",
    "\n",
    "    return G"
   ]
  },
  {
   "cell_type": "code",
   "execution_count": 18,
   "metadata": {},
   "outputs": [
    {
     "name": "stdout",
     "output_type": "stream",
     "text": [
      "Testing with 7 nodes\n",
      "\n",
      "Example node 0: {'res_min': array([0, 0]), 'res_max': array([10, 10])}\n"
     ]
    }
   ],
   "source": [
    "# create test graph\n",
    "G = create_test_graph(add_nodes_to_0=True) #testtools.create_test_graph(add_nodes_to_0=True)\n",
    "source = 0\n",
    "print('Testing with {} nodes'.format(len(G)))\n",
    "print('')\n",
    "print(\"Example node 0:\",G.nodes[0])"
   ]
  },
  {
   "cell_type": "code",
   "execution_count": 19,
   "metadata": {},
   "outputs": [
    {
     "data": {
      "text/plain": [
       "2"
      ]
     },
     "execution_count": 19,
     "metadata": {},
     "output_type": "execute_result"
    }
   ],
   "source": [
    "# move source in-edges to a new node\n",
    "source_in = 'source_in'\n",
    "pylgrim.tools.decouple_source(G, source, source_in=source_in)"
   ]
  },
  {
   "cell_type": "code",
   "execution_count": 20,
   "metadata": {},
   "outputs": [
    {
     "name": "stdout",
     "output_type": "stream",
     "text": [
      "0\n",
      "1\n",
      "shortest path found: 0 ⇨ 2 ⇨ 5 ⇨ 6 ⇨ source_in with label (-5, array([4., 8.]))\n",
      "\n",
      "0 ⇨ 2 : {'weight': -4, 'res_cost': array([1, 2])}\n",
      "\n",
      "2 ⇨ 5 : {'weight': -2, 'res_cost': array([1, 2])}\n",
      "\n",
      "5 ⇨ 6 : {'weight': 2, 'res_cost': array([1, 2])}\n",
      "\n",
      "6 ⇨ source_in : {'weight': -1, 'res_cost': array([1, 2])}\n",
      "\n"
     ]
    }
   ],
   "source": [
    "# solve using ESPPRCTW\n",
    "#target = 4\n",
    "target = source_in\n",
    "max_res = G.graph[\"max_res\"]\n",
    "\n",
    "# optional keywords that should also work without using them\n",
    "res_name = 'res_cost'\n",
    "\n",
    "G_pre, res_min = pylgrim.ESPPRCTW.preprocess(G, source, target, max_res =max_res, res_name=res_name)\n",
    "shortest_path, shortest_path_label = pylgrim.ESPPRCTW.GSSA(G_pre, source, target, max_res, res_min, res_name=res_name)\n",
    "\n",
    "\n",
    "print('shortest path found: {} with label {}'.format(shortest_path, shortest_path_label))\n",
    "print('')\n",
    "\n",
    "while True:\n",
    "    try:\n",
    "        e = shortest_path.__next__()\n",
    "        print('{} ⇨ {} : {}'.format(*e))\n",
    "        print('')\n",
    "    except StopIteration:\n",
    "        # last element reached\n",
    "        break"
   ]
  },
  {
   "cell_type": "code",
   "execution_count": 21,
   "metadata": {},
   "outputs": [
    {
     "data": {
      "text/plain": [
       "0 2 5 6 source_in"
      ]
     },
     "execution_count": 21,
     "metadata": {},
     "output_type": "execute_result"
    }
   ],
   "source": [
    "shortest_path"
   ]
  },
  {
   "cell_type": "code",
   "execution_count": 22,
   "metadata": {},
   "outputs": [
    {
     "data": {
      "image/png": "[encoded data removed]",
      "text/plain": [
       "<Figure size 640x480 with 1 Axes>"
      ]
     },
     "metadata": {},
     "output_type": "display_data"
    }
   ],
   "source": [
    "# visualize\n",
    "testtools.visualize_path(G, shortest_path)"
   ]
  },
  {
   "cell_type": "markdown",
   "metadata": {},
   "source": [
    "## Real example"
   ]
  },
  {
   "cell_type": "code",
   "execution_count": 32,
   "metadata": {},
   "outputs": [
    {
     "data": {
      "text/plain": [
       "<module 'pylgrim.ESPPRCTW' from '/home/ubuntu/github_repos/pylgrim/pylgrim/ESPPRCTW.py'>"
      ]
     },
     "execution_count": 32,
     "metadata": {},
     "output_type": "execute_result"
    }
   ],
   "source": [
    "import importlib\n",
    "importlib.reload(pylgrim.ESPPRCTW)"
   ]
  },
  {
   "cell_type": "code",
   "execution_count": 33,
   "metadata": {},
   "outputs": [],
   "source": [
    "import pickle\n",
    "G = pickle.load(open('filename.pickle', 'rb'))"
   ]
  },
  {
   "cell_type": "code",
   "execution_count": 34,
   "metadata": {},
   "outputs": [
    {
     "name": "stdout",
     "output_type": "stream",
     "text": [
      "Testing with 111 nodes\n",
      "\n",
      "Start node:  depot_start_m_0\n",
      "Finish node:  depot_end_m_0\n"
     ]
    }
   ],
   "source": [
    "source = G.graph[\"source\"]\n",
    "source_in = G.graph[\"sink\"]\n",
    "\n",
    "print('Testing with {} nodes'.format(len(G)))\n",
    "print('')\n",
    "print(\"Start node: \", source)\n",
    "print(\"Finish node: \", source_in)"
   ]
  },
  {
   "cell_type": "code",
   "execution_count": 41,
   "metadata": {},
   "outputs": [],
   "source": [
    "for e in G.edges:\n",
    "    if G.edges[e][\"res_cost\"][2] <= 0:\n",
    "        G.edges[e][\"res_cost\"] = [1., 1., 1.]\n",
    "    #print(e, G.edges[e][\"res_cost\"])\n",
    "    #if e == ('detach_2_m_0', 'attach_2_m_0'):\n",
    "    #    G.edges[e][\"demand\"] = 1"
   ]
  },
  {
   "cell_type": "code",
   "execution_count": 42,
   "metadata": {},
   "outputs": [
    {
     "name": "stdout",
     "output_type": "stream",
     "text": [
      "Calculate feasible paths to target for resource 0\n",
      "Calculate feasible paths to target for resource 1\n",
      "Calculate feasible paths to target for resource 2\n",
      "Unexpected exception formatting exception. Falling back to standard exception\n"
     ]
    },
    {
     "name": "stderr",
     "output_type": "stream",
     "text": [
      "Traceback (most recent call last):\n",
      "  File \"/home/ubuntu/.local/lib/python3.10/site-packages/IPython/core/interactiveshell.py\", line 3526, in run_code\n",
      "    exec(code_obj, self.user_global_ns, self.user_ns)\n",
      "  File \"/tmp/ipykernel_168092/1435068969.py\", line 10, in <module>\n",
      "    shortest_path, shortest_path_label = pylgrim.ESPPRCTW.GSSA(G_pre, source, target, max_res, res_min, res_name=res_name)\n",
      "  File \"/home/ubuntu/github_repos/pylgrim/pylgrim/ESPPRCTW.py\", line 320, in GSSA\n",
      "    logger.debug('found path {} (C {} | R {})'.format(pt.print_path(path, max_path_len_for_print=len(path)), label[0], label[1]))\n",
      "  File \"/home/ubuntu/github_repos/pylgrim/pylgrim/ESPPRCTW.py\", line 192, in GLSA\n",
      "  File \"/home/ubuntu/.local/lib/python3.10/site-packages/numpy/core/arrayprint.py\", line 1612, in _array_str_implementation\n",
      "    return array2string(a, max_line_width, precision, suppress_small, ' ', \"\")\n",
      "  File \"/home/ubuntu/.local/lib/python3.10/site-packages/numpy/core/arrayprint.py\", line 736, in array2string\n",
      "    return _array2string(a, options, separator, prefix)\n",
      "  File \"/home/ubuntu/.local/lib/python3.10/site-packages/numpy/core/arrayprint.py\", line 513, in wrapper\n",
      "    return f(self, *args, **kwargs)\n",
      "  File \"/home/ubuntu/.local/lib/python3.10/site-packages/numpy/core/arrayprint.py\", line 546, in _array2string\n",
      "    lst = _formatArray(a, format_function, options['linewidth'],\n",
      "KeyboardInterrupt\n",
      "\n",
      "During handling of the above exception, another exception occurred:\n",
      "\n",
      "Traceback (most recent call last):\n",
      "  File \"/home/ubuntu/.local/lib/python3.10/site-packages/IPython/core/interactiveshell.py\", line 2120, in showtraceback\n",
      "    stb = self.InteractiveTB.structured_traceback(\n",
      "  File \"/home/ubuntu/.local/lib/python3.10/site-packages/IPython/core/ultratb.py\", line 1435, in structured_traceback\n",
      "    return FormattedTB.structured_traceback(\n",
      "  File \"/home/ubuntu/.local/lib/python3.10/site-packages/IPython/core/ultratb.py\", line 1326, in structured_traceback\n",
      "    return VerboseTB.structured_traceback(\n",
      "  File \"/home/ubuntu/.local/lib/python3.10/site-packages/IPython/core/ultratb.py\", line 1173, in structured_traceback\n",
      "    formatted_exception = self.format_exception_as_a_whole(etype, evalue, etb, number_of_lines_of_context,\n",
      "  File \"/home/ubuntu/.local/lib/python3.10/site-packages/IPython/core/ultratb.py\", line 1088, in format_exception_as_a_whole\n",
      "    frames.append(self.format_record(record))\n",
      "  File \"/home/ubuntu/.local/lib/python3.10/site-packages/IPython/core/ultratb.py\", line 970, in format_record\n",
      "    frame_info.lines, Colors, self.has_colors, lvals\n",
      "  File \"/home/ubuntu/.local/lib/python3.10/site-packages/IPython/core/ultratb.py\", line 792, in lines\n",
      "    return self._sd.lines\n",
      "  File \"/home/ubuntu/.local/lib/python3.10/site-packages/stack_data/utils.py\", line 144, in cached_property_wrapper\n",
      "    value = obj.__dict__[self.func.__name__] = self.func(obj)\n",
      "  File \"/home/ubuntu/.local/lib/python3.10/site-packages/stack_data/core.py\", line 734, in lines\n",
      "    pieces = self.included_pieces\n",
      "  File \"/home/ubuntu/.local/lib/python3.10/site-packages/stack_data/utils.py\", line 144, in cached_property_wrapper\n",
      "    value = obj.__dict__[self.func.__name__] = self.func(obj)\n",
      "  File \"/home/ubuntu/.local/lib/python3.10/site-packages/stack_data/core.py\", line 681, in included_pieces\n",
      "    pos = scope_pieces.index(self.executing_piece)\n",
      "  File \"/home/ubuntu/.local/lib/python3.10/site-packages/stack_data/utils.py\", line 144, in cached_property_wrapper\n",
      "    value = obj.__dict__[self.func.__name__] = self.func(obj)\n",
      "  File \"/home/ubuntu/.local/lib/python3.10/site-packages/stack_data/core.py\", line 660, in executing_piece\n",
      "    return only(\n",
      "  File \"/home/ubuntu/.local/lib/python3.10/site-packages/executing/executing.py\", line 190, in only\n",
      "    raise NotOneValueFound('Expected one value, found 0')\n",
      "executing.executing.NotOneValueFound: Expected one value, found 0\n"
     ]
    }
   ],
   "source": [
    "# solve using ESPPRCTW\n",
    "#target = 4\n",
    "target = source_in\n",
    "max_res = G.graph[\"max_res\"]\n",
    "\n",
    "# optional keywords that should also work without using them\n",
    "res_name = 'res_cost'\n",
    "\n",
    "G_pre, res_min = pylgrim.ESPPRCTW.preprocess(G, source, target, max_res =max_res, res_name=res_name)\n",
    "shortest_path, shortest_path_label = pylgrim.ESPPRCTW.GSSA(G_pre, source, target, max_res, res_min, res_name=res_name)\n",
    "\n",
    "\n",
    "print('shortest path found: {} with label {}'.format(shortest_path, shortest_path_label))\n",
    "print('')\n",
    "\n",
    "while True:\n",
    "    try:\n",
    "        e = shortest_path.__next__()\n",
    "        print('{} ⇨ {} : {}'.format(*e))\n",
    "        print('')\n",
    "    except StopIteration:\n",
    "        # last element reached\n",
    "        break"
   ]
  },
  {
   "cell_type": "code",
   "execution_count": null,
   "metadata": {},
   "outputs": [],
   "source": []
  }
 ],
 "metadata": {
  "kernelspec": {
   "display_name": "Python 3",
   "language": "python",
   "name": "python3"
  },
  "language_info": {
   "codemirror_mode": {
    "name": "ipython",
    "version": 3
   },
   "file_extension": ".py",
   "mimetype": "text/x-python",
   "name": "python",
   "nbconvert_exporter": "python",
   "pygments_lexer": "ipython3",
   "version": "3.10.12"
  }
 },
 "nbformat": 4,
 "nbformat_minor": 2
}
